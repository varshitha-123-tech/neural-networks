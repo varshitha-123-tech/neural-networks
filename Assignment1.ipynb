{
  "nbformat": 4,
  "nbformat_minor": 0,
  "metadata": {
    "colab": {
      "provenance": [],
      "history_visible": true,
      "toc_visible": true,
      "authorship_tag": "ABX9TyPFo3GJpCaGiHr4pDlKW6hl",
      "include_colab_link": true
    },
    "kernelspec": {
      "name": "python3",
      "display_name": "Python 3"
    },
    "language_info": {
      "name": "python"
    }
  },
  "cells": [
    {
      "cell_type": "markdown",
      "metadata": {
        "id": "view-in-github",
        "colab_type": "text"
      },
      "source": [
        "<a href=\"https://colab.research.google.com/github/varshitha-123-tech/neural-networks/blob/main/Assignment1.ipynb\" target=\"_parent\"><img src=\"https://colab.research.google.com/assets/colab-badge.svg\" alt=\"Open In Colab\"/></a>"
      ]
    },
    {
      "cell_type": "code",
      "execution_count": null,
      "metadata": {
        "colab": {
          "base_uri": "https://localhost:8080/"
        },
        "id": "_249v8rq0l-c",
        "outputId": "40865e2d-48a1-43ff-f316-2b4b96a42d7c"
      },
      "outputs": [
        {
          "output_type": "stream",
          "name": "stdout",
          "text": [
            "Enter your first name: varshitha\n",
            "Enter your last name: kurra\n",
            "Full Name: varshitha kurra\n",
            "String with alternate characters: vrhtakra\n"
          ]
        }
      ],
      "source": [
        "def fullname(first_name, last_name):\n",
        "    \"\"\"\n",
        "    Combines first_name and last_name into a full name.\n",
        "    \"\"\"\n",
        "    return f\"{first_name} {last_name}\"\n",
        "\n",
        "def string_alternative(input_string):\n",
        "    \"\"\"\n",
        "    Returns every other character from the input string.\n",
        "    \"\"\"\n",
        "    return input_string[::2]\n",
        "\n",
        "def main():\n",
        "    # Taking input from the user\n",
        "    first_name = input(\"Enter your first name: \")\n",
        "    last_name = input(\"Enter your last name: \")\n",
        "\n",
        "    # Getting the full name by calling fullname function\n",
        "    full_name = fullname(first_name, last_name)\n",
        "    print(f\"Full Name: {full_name}\")\n",
        "\n",
        "    # Getting the alternate characters by calling string_alternative function\n",
        "    alternate_chars = string_alternative(full_name)\n",
        "    print(f\"String with alternate characters: {alternate_chars}\")\n",
        "\n",
        "if __name__ == \"__main__\":\n",
        "    main()"
      ]
    },
    {
      "cell_type": "code",
      "source": [
        "from collections import Counter\n",
        "\n",
        "def create_input_file():\n",
        "    with open(\"input.txt\", \"w\") as file:\n",
        "        file.write(\"Python Course\\nDeep Learning Course\\n\")\n",
        "\n",
        "def compute_word_count(input_file, output_file):\n",
        "    with open(input_file, 'r') as infile, open(output_file, 'w') as outfile:\n",
        "        lines = infile.readlines()\n",
        "        word_count = Counter(word for line in lines for word in line.split())\n",
        "        outfile.writelines(lines)\n",
        "        outfile.write(\"Word_Count:\\n\")\n",
        "        outfile.writelines(f\"{word}: {count}\\n\" for word, count in word_count.items())\n",
        "\n",
        "# Create the input file\n",
        "create_input_file()\n",
        "\n",
        "# File names\n",
        "input_file = \"input.txt\"\n",
        "output_file = \"output.txt\"\n",
        "\n",
        "# Run the word count function\n",
        "compute_word_count(input_file, output_file)\n",
        "with open(\"output.txt\", \"r\") as file:\n",
        "    content = file.read()\n",
        "    print(content)"
      ],
      "metadata": {
        "id": "nx8HwieS12S8",
        "outputId": "9dce294d-ff68-46fa-8887-fda9d84353a4",
        "colab": {
          "base_uri": "https://localhost:8080/"
        }
      },
      "execution_count": null,
      "outputs": [
        {
          "output_type": "stream",
          "name": "stdout",
          "text": [
            "Python Course\n",
            "Deep Learning Course\n",
            "Word_Count:\n",
            "Python: 1\n",
            "Course: 2\n",
            "Deep: 1\n",
            "Learning: 1\n",
            "\n"
          ]
        }
      ]
    },
    {
      "cell_type": "code",
      "source": [
        "# Convert heights from inches to centimeters using two approaches\n",
        "\n",
        "# 1) Nested Interactive Loop\n",
        "def convert_heights_nested_loop(heights):\n",
        "    heights_cm = []\n",
        "    for height in heights:\n",
        "        heights_cm.append(round(height * 2.54, 2))\n",
        "    return heights_cm\n",
        "\n",
        "# 2) List Comprehension\n",
        "def convert_heights_list_comprehension(heights):\n",
        "    return [round(height * 2.54, 2) for height in heights]\n",
        "\n",
        "# Example heights in inches\n",
        "heights_in = [150, 155, 145, 148]\n",
        "\n",
        "# Using Nested Loop\n",
        "converted_nested = convert_heights_nested_loop(heights_in)\n",
        "print(\"Using Nested Loop:\", converted_nested)\n",
        "\n",
        "# Using List Comprehension\n",
        "converted_comprehension = convert_heights_list_comprehension(heights_in)\n",
        "print(\"Using List Comprehension:\", converted_comprehension)\n"
      ],
      "metadata": {
        "colab": {
          "base_uri": "https://localhost:8080/"
        },
        "id": "uLMF3Vca6szm",
        "outputId": "7c417f33-8ed8-4f83-b038-831c2672edb0"
      },
      "execution_count": null,
      "outputs": [
        {
          "output_type": "stream",
          "name": "stdout",
          "text": [
            "Using Nested Loop: [381.0, 393.7, 368.3, 375.92]\n",
            "Using List Comprehension: [381.0, 393.7, 368.3, 375.92]\n"
          ]
        }
      ]
    },
    {
      "cell_type": "markdown",
      "source": [
        "video link:\n",
        "\n",
        "https://drive.google.com/file/d/1Ei2SKuQimIGyBra1rdiGSMRFF0xSOHNA/view?usp=drive_link"
      ],
      "metadata": {
        "id": "8veS9s4cdujT"
      }
    },
    {
      "cell_type": "code",
      "source": [],
      "metadata": {
        "id": "Tf3AvAX9h8bb"
      },
      "execution_count": null,
      "outputs": []
    }
  ]
}