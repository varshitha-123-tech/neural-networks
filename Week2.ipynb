{
  "nbformat": 4,
  "nbformat_minor": 0,
  "metadata": {
    "colab": {
      "provenance": [],
      "authorship_tag": "ABX9TyNq03i18kXg/H6cejr9sKkX",
      "include_colab_link": true
    },
    "kernelspec": {
      "name": "python3",
      "display_name": "Python 3"
    },
    "language_info": {
      "name": "python"
    }
  },
  "cells": [
    {
      "cell_type": "markdown",
      "metadata": {
        "id": "view-in-github",
        "colab_type": "text"
      },
      "source": [
        "<a href=\"https://colab.research.google.com/github/varshitha-123-tech/neural-networks/blob/main/Week2.ipynb\" target=\"_parent\"><img src=\"https://colab.research.google.com/assets/colab-badge.svg\" alt=\"Open In Colab\"/></a>"
      ]
    },
    {
      "cell_type": "markdown",
      "source": [
        "1. Create a class Employee and then do the following\n",
        "\n",
        "\n",
        "    • Create a data member to count the number of Employees\n",
        "    • Create a constructor to initialize name, family, salary, department\n",
        "    • Create a function to average salary\n",
        "    • Create a Fulltime Employee class and it should inherit the properties of Employee class\n",
        "    • Create the instances of Fulltime Employee class and Employee class and call their member functions.\n"
      ],
      "metadata": {
        "id": "1DQtSR1YFOsk"
      }
    },
    {
      "cell_type": "code",
      "execution_count": null,
      "metadata": {
        "id": "pnuHC088D5Wj"
      },
      "outputs": [],
      "source": [
        "class Employee:\n",
        "\n",
        "    employee_count = 0\n",
        "\n",
        "    def __init__(self, name, family, salary, department):\n",
        "        self.name = name\n",
        "        self.family = family\n",
        "        self.salary = salary\n",
        "        self.department = department\n",
        "        Employee.employee_count += 1\n",
        "\n",
        "    @staticmethod\n",
        "    def average_salary(employees):\n",
        "        total_salary = sum(emp.salary for emp in employees)\n",
        "        return total_salary / len(employees) if employees else 0\n",
        "\n",
        "class FulltimeEmployee(Employee):\n",
        "    def __init__(self, name, family, salary, department):\n",
        "        super().__init__(name, family, salary, department)\n",
        "\n",
        "employee1 = Employee(\"Varshitha\", \"Kurra\", 50000, \"HR\")\n",
        "employee2 = Employee(\"Bhavna\", \"Miryala\", 60000, \"IT\")\n",
        "fulltime_employee1 = FulltimeEmployee(\"Amrutha\", \"Dama\", 70000, \"Finance\")\n",
        "fulltime_employee2 = FulltimeEmployee(\"Kalyani\", \"Hari\", 80000, \"Marketing\")\n"
      ]
    },
    {
      "cell_type": "code",
      "source": [
        "employees = [employee1, employee2, fulltime_employee1, fulltime_employee2]"
      ],
      "metadata": {
        "id": "Bo4nRZ97E7Uv"
      },
      "execution_count": null,
      "outputs": []
    },
    {
      "cell_type": "code",
      "source": [
        "print(f\"Total number of employees: {Employee.employee_count}\")\n"
      ],
      "metadata": {
        "colab": {
          "base_uri": "https://localhost:8080/"
        },
        "id": "pXdgpg-PFBHh",
        "outputId": "4949dcbe-4e11-4b7c-e7e3-0523f23b1930"
      },
      "execution_count": null,
      "outputs": [
        {
          "output_type": "stream",
          "name": "stdout",
          "text": [
            "Total number of employees: 4\n"
          ]
        }
      ]
    },
    {
      "cell_type": "code",
      "source": [
        "average_salary = Employee.average_salary(employees)\n",
        "print(f\"Average salary: {average_salary}\")"
      ],
      "metadata": {
        "colab": {
          "base_uri": "https://localhost:8080/"
        },
        "id": "0VGSGg19FBK4",
        "outputId": "a75ba5d3-d11a-4ab0-db2b-041d0cadac72"
      },
      "execution_count": null,
      "outputs": [
        {
          "output_type": "stream",
          "name": "stdout",
          "text": [
            "Average salary: 65000.0\n"
          ]
        }
      ]
    },
    {
      "cell_type": "code",
      "source": [
        "for emp in employees:\n",
        "    print(f\"Name: {emp.name}, Family: {emp.family}, Salary: {emp.salary}, Department: {emp.department}\")"
      ],
      "metadata": {
        "colab": {
          "base_uri": "https://localhost:8080/"
        },
        "id": "KexieYxeFLlw",
        "outputId": "bc85389b-ac8c-4045-869c-cbfd98ec6903"
      },
      "execution_count": null,
      "outputs": [
        {
          "output_type": "stream",
          "name": "stdout",
          "text": [
            "Name: Varshitha, Family: Kurra, Salary: 50000, Department: HR\n",
            "Name: Bhavna, Family: Miryala, Salary: 60000, Department: IT\n",
            "Name: Amrutha, Family: Dama, Salary: 70000, Department: Finance\n",
            "Name: Kalyani, Family: Hari, Salary: 80000, Department: Marketing\n"
          ]
        }
      ]
    },
    {
      "cell_type": "markdown",
      "source": [
        "2. Numpy\n",
        "\n",
        "Using NumPy create random vector of size 20 having only float in the range 1-20.\n",
        "\n",
        "Then reshape the array to 4 by 5\n",
        "\n",
        "Then replace the max in each row by 0 (axis=1)\n",
        "\n",
        "(you can NOT implement it via for loop)\n",
        "\n"
      ],
      "metadata": {
        "id": "pz1vwdJxHFQc"
      }
    },
    {
      "cell_type": "code",
      "source": [
        "import numpy as np\n",
        "\n",
        "random_vector = np.random.uniform(1, 20, 20)\n",
        "\n",
        "reshaped_array = random_vector.reshape(4, 5)\n",
        "\n",
        "max_indices = np.argmax(reshaped_array, axis=1)\n",
        "reshaped_array[np.arange(reshaped_array.shape[0]), max_indices] = 0\n",
        "\n",
        "print(\"Reshaped Array with max replaced by 0:\")\n",
        "print(reshaped_array)\n"
      ],
      "metadata": {
        "colab": {
          "base_uri": "https://localhost:8080/"
        },
        "id": "HhbAcI6BG_l4",
        "outputId": "78785647-eed1-4413-9e8a-b913662c7156"
      },
      "execution_count": null,
      "outputs": [
        {
          "output_type": "stream",
          "name": "stdout",
          "text": [
            "Reshaped Array with max replaced by 0:\n",
            "[[11.43830989  3.4062202   0.          2.57609889  8.57316629]\n",
            " [12.59020507 15.68502638 15.3500335   3.44548019  0.        ]\n",
            " [ 0.          6.3154714   9.63041323  3.06938991  7.30421087]\n",
            " [10.40174281  8.09105227  4.40346159  0.         16.45065707]]\n"
          ]
        }
      ]
    },
    {
      "cell_type": "markdown",
      "source": [
        "Video link:https://drive.google.com/file/d/1hdNmGMv6N1sbL_ByglKTsXl_H9sqipda/view?usp=drive_link\n",
        "\n"
      ],
      "metadata": {
        "id": "mrgrUb2FHkEU"
      }
    }
  ]
}